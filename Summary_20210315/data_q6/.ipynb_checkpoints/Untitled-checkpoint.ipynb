{
 "cells": [
  {
   "cell_type": "code",
   "execution_count": 1,
   "metadata": {},
   "outputs": [],
   "source": [
    "import numpy as np\n",
    "from phase_space import(x2Gamma, neg_state_1q, neg_gate_1q_max,\n",
    "                   neg_gate_2q_max, neg_meas_1q, neg_gate_3q_max)\n",
    "from circuit_components import(makeState, makeGate, makeMeas)\n",
    "from QD_circuit import(QD_circuit)\n",
    "from circuit_generator import(random_connected_circuit, permutation_matrix,\n",
    "                             solve_qubit_circuit)\n",
    "from frame_opt import(wigner_neg_compressed, wigner_neg_compressed_3q,\n",
    "                     optimize_neg_compressed, optimize_neg_compressed_3q,\n",
    "                     local_opt_neg_compressed, local_opt_neg_compressed_3q)"
   ]
  },
  {
   "cell_type": "code",
   "execution_count": null,
   "metadata": {},
   "outputs": [
    {
     "name": "stdout",
     "output_type": "stream",
     "text": [
      "> c----c----c---- D\n",
      "> z--c-z--c-z--c- D\n",
      "> -c-z--c-z--c-z- /\n",
      "> -z--c-z--c-z--c /\n",
      "> --c-z--c-z--c-z /\n",
      "> --z----z----z-- /\n",
      "\n",
      "------------------2q compression-------------------\n",
      "\n",
      "> c----c----c---- D\n",
      "> z--c-z--c-z--c- D\n",
      "> -c-z--c-z--c-z- /\n",
      "> -z--c-z--c-z--c /\n",
      "> --c-z--c-z--c-z /\n",
      "> --z----z----z-- /\n",
      "--------------------- WIGNER NEGATIVITY ----------------------\n",
      "Wigner Log Neg:   11.534426108724203\n",
      "Computation time: 0.07010984420776367\n",
      "--------------------------------------------------------------\n",
      "11.534426108724203\n"
     ]
    },
    {
     "name": "stderr",
     "output_type": "stream",
     "text": [
      "/opt/anaconda3/lib/python3.8/site-packages/autograd/numpy/numpy_vjps.py:698: ComplexWarning: Casting complex values to real discards the imaginary part\n",
      "  onp.add.at(A, idx, x)\n"
     ]
    },
    {
     "name": "stdout",
     "output_type": "stream",
     "text": [
      "--------------------- GLOBAL OPTIMIZATION --------------------\n",
      " {'opt_method': 'B', 'niter': 1}\n",
      "Optimized Log Neg: 14.332160612178313\n",
      "Computation time:  940.4904692173004\n",
      "--------------------------------------------------------------\n",
      "14.332160612178313\n",
      "\n",
      "------------------3q compression-------------------\n",
      "\n",
      "> O--O--O- D\n",
      "> |+-|+-|- D\n",
      "> -O-+O++- /\n",
      "> +|+-|O-+ /\n",
      "> --O--|-O /\n",
      "> --|----| /\n",
      "--------------------- WIGNER NEGATIVITY ----------------------\n",
      "Wigner Log Neg:   9.724613052252398\n",
      "Computation time: 30.65139889717102\n",
      "--------------------------------------------------------------\n",
      "9.724613052252398\n"
     ]
    }
   ],
   "source": [
    "circuit, Tcount = random_connected_circuit(qudit_num=6, circuit_length=15,\n",
    "            Tgate_prob=4/5, given_state=None, given_measurement=2, method='c')\n",
    "\n",
    "circ = QD_circuit(circuit)\n",
    "circ.show_connectivity(compressed=False)\n",
    "print(\"\\n------------------2q compression-------------------\\n\")\n",
    "circ.compress_circuit(m=2)\n",
    "circ.show_connectivity()\n",
    "print(wigner_neg_compressed(circ.circuit_compressed)[1])\n",
    "print(optimize_neg_compressed(circ.circuit_compressed)[1])\n",
    "\n",
    "circ = QD_circuit(circuit)\n",
    "print(\"\\n------------------3q compression-------------------\\n\")\n",
    "circ.compress_circuit(m=3)\n",
    "circ.show_connectivity()\n",
    "print(wigner_neg_compressed_3q(circ.circuit_compressed)[1])\n",
    "print(optimize_neg_compressed_3q(circ.circuit_compressed)[1])"
   ]
  },
  {
   "cell_type": "code",
   "execution_count": null,
   "metadata": {},
   "outputs": [],
   "source": [
    "neg_3q_compressed = "
   ]
  },
  {
   "cell_type": "code",
   "execution_count": 2,
   "metadata": {},
   "outputs": [],
   "source": [
    "x0w = [1,0,0,0,0,0,1,0]\n",
    "Gamma0 = x2Gamma(x0w)"
   ]
  },
  {
   "cell_type": "code",
   "execution_count": 3,
   "metadata": {},
   "outputs": [
    {
     "name": "stdout",
     "output_type": "stream",
     "text": [
      "1.0000000000000044\n"
     ]
    }
   ],
   "source": [
    "csum = makeGate('C+')\n",
    "neg_csum = neg_gate_2q_max(csum, Gamma0, Gamma0, Gamma0, Gamma0)\n",
    "print(neg_csum)"
   ]
  },
  {
   "cell_type": "code",
   "execution_count": 4,
   "metadata": {},
   "outputs": [
    {
     "name": "stdout",
     "output_type": "stream",
     "text": [
      "1.000000000000002\n"
     ]
    }
   ],
   "source": [
    "S_gate = makeGate('S')\n",
    "neg_S = neg_gate_1q_max(S_gate, Gamma0, Gamma0)\n",
    "print(neg_S)"
   ]
  },
  {
   "cell_type": "code",
   "execution_count": 5,
   "metadata": {},
   "outputs": [
    {
     "name": "stdout",
     "output_type": "stream",
     "text": [
      "1.5862568277145466\n"
     ]
    }
   ],
   "source": [
    "T_gate = makeGate('T')\n",
    "neg_T = neg_gate_1q_max(T_gate, Gamma0, Gamma0)\n",
    "print(neg_T)"
   ]
  },
  {
   "cell_type": "code",
   "execution_count": 6,
   "metadata": {},
   "outputs": [
    {
     "name": "stdout",
     "output_type": "stream",
     "text": [
      "Compressed:  2.5162107234710156\n",
      "Not compressed:  2.516210723471028\n"
     ]
    }
   ],
   "source": [
    "# C-SUM + 2 T-gates compressed\n",
    "U_total = np.dot(np.kron(T_gate, T_gate), csum)\n",
    "neg_total = neg_gate_2q_max(U_total, Gamma0, Gamma0, Gamma0, Gamma0)\n",
    "\n",
    "print(\"Compressed: \", neg_total)\n",
    "print(\"Not compressed: \", neg_csum*neg_T*neg_T)"
   ]
  },
  {
   "cell_type": "code",
   "execution_count": 7,
   "metadata": {},
   "outputs": [
    {
     "name": "stdout",
     "output_type": "stream",
     "text": [
      "3q-compressed:  3.9913564400744574\n",
      "2q-compressed:  6.331316404910532\n"
     ]
    }
   ],
   "source": [
    "# 3q-compression\n",
    "U3_total = np.dot(np.kron(np.eye(3), U_total), np.kron(U_total, np.eye(3)))\n",
    "neg_total_q3 = neg_gate_3q_max(U3_total, Gamma0, Gamma0, Gamma0, Gamma0, Gamma0, Gamma0)\n",
    "\n",
    "print(\"3q-compressed: \", neg_total_q3)\n",
    "print(\"2q-compressed: \", neg_total*neg_total)"
   ]
  },
  {
   "cell_type": "code",
   "execution_count": null,
   "metadata": {},
   "outputs": [],
   "source": []
  }
 ],
 "metadata": {
  "kernelspec": {
   "display_name": "Python 3",
   "language": "python",
   "name": "python3"
  },
  "language_info": {
   "codemirror_mode": {
    "name": "ipython",
    "version": 3
   },
   "file_extension": ".py",
   "mimetype": "text/x-python",
   "name": "python",
   "nbconvert_exporter": "python",
   "pygments_lexer": "ipython3",
   "version": "3.8.5"
  }
 },
 "nbformat": 4,
 "nbformat_minor": 4
}
