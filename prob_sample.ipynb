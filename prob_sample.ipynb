{
 "cells": [
  {
   "cell_type": "code",
   "execution_count": 14,
   "metadata": {},
   "outputs": [],
   "source": [
    "# from numba import(jitclass, njit, prange, types)\n",
    "from numba import(jit)\n",
    "import numpy as np\n",
    "import numpy.random as nr\n",
    "from scipy.linalg import(expm)\n",
    "import time\n",
    "from joblib import(Parallel, delayed)\n",
    "import multiprocessing"
   ]
  },
  {
   "cell_type": "code",
   "execution_count": 15,
   "metadata": {},
   "outputs": [],
   "source": [
    "from compression import(compress_circuit)\n",
    "from frame_opt import(init_x_list, get_negativity_circuit, sequential_para_opt)\n",
    "from phase_space import(PhaseSpace)\n",
    "from qubit_frame_Wigner import(F, G, DIM, x0)"
   ]
  },
  {
   "cell_type": "code",
   "execution_count": 16,
   "metadata": {},
   "outputs": [],
   "source": [
    "def get_qd_output(circuit, par_list, ps):\n",
    "    '''\n",
    "    Calculate the quasi-probability distribution of each circuit element\n",
    "    and return them as a list of [state qds, gate qds, measurement qds].\n",
    "    '''\n",
    "    par_idx_states = np.arange(0, len(circuit[\"state_list\"]))\n",
    "    par_idx_gates = par_list[1]\n",
    "    par_idx_meas = par_list[2]\n",
    "    par_vals = par_list[0]\n",
    "\n",
    "    qd_list_states = []   # qd lists\n",
    "    qd_list_gates = []\n",
    "    qd_list_meas = []\n",
    "\n",
    "    neg_list_states = []  # qd negativity lists\n",
    "    neg_list_gates = []\n",
    "    neg_list_meas = []\n",
    "\n",
    "    sign_list_states = [] # sign of qd lists\n",
    "    sign_list_gates = []\n",
    "    sign_list_meas = []\n",
    "\n",
    "    pd_list_states = []   # normalised prob dist lists\n",
    "    pd_list_gates = []\n",
    "    pd_list_meas = []\n",
    "\n",
    "    # States\n",
    "    for s, state in enumerate(circuit['state_list']):\n",
    "        x = par_vals[par_idx_states[s]]\n",
    "\n",
    "        qd_state = ps.W_state(state, x)\n",
    "        pd_state = np.abs(qd_state)\n",
    "        neg_state = pd_state.sum()\n",
    "        pd_state /= neg_state\n",
    "        sign_state = np.sign(qd_state)\n",
    "\n",
    "        qd_list_states.append(qd_state)\n",
    "        pd_list_states.append(pd_state)\n",
    "        neg_list_states.append(neg_state)\n",
    "        sign_list_states.append(sign_state)\n",
    "\n",
    "    # Gates\n",
    "    for g, gate in enumerate(circuit['gate_list']):\n",
    "        idx = circuit['index_list'][g]\n",
    "\n",
    "        x_in, x_out = [], []\n",
    "        for k in par_idx_gates[g][0]:\n",
    "            x_in.append(par_vals[k])\n",
    "        for k in par_idx_gates[g][1]:\n",
    "            x_out.append(par_vals[k])\n",
    "\n",
    "        qd_gate = ps.W_gate(gate, x_in, x_out)\n",
    "        pd_gate = np.abs(qd_gate)\n",
    "        neg_gate = pd_gate.sum(axis=tuple(range(2*len(idx),4*len(idx))))\n",
    "        for i in range(2*len(idx)):\n",
    "            pd_gate = pd_gate.swapaxes(i,2*len(idx)+i)\n",
    "        pd_gate = pd_gate/neg_gate\n",
    "        for i in range(2*len(idx)):\n",
    "            pd_gate = pd_gate.swapaxes(i,2*len(idx)+i)\n",
    "        sign_gate = np.sign(qd_gate)\n",
    "\n",
    "        qd_list_gates.append(qd_gate)\n",
    "        pd_list_gates.append(pd_gate)\n",
    "        neg_list_gates.append(neg_gate)\n",
    "        sign_list_gates.append(sign_gate)\n",
    "\n",
    "    # Measurements\n",
    "    for m, meas in enumerate(circuit['meas_list']):\n",
    "        x = par_vals[par_idx_meas[m]]\n",
    "\n",
    "        qd_meas = ps.W_meas(meas, x)\n",
    "        pd_meas = np.abs(qd_meas)\n",
    "        neg_meas = np.max(pd_meas)\n",
    "        sign_meas = np.sign(qd_meas)\n",
    "\n",
    "        qd_list_meas.append(qd_meas)\n",
    "        pd_list_meas.append(pd_meas)\n",
    "        neg_list_meas.append(neg_meas)\n",
    "        sign_list_meas.append(sign_meas)\n",
    "\n",
    "    output = {\n",
    "    'qd_list_states': qd_list_states, 'qd_list_gates': qd_list_gates,\n",
    "    'qd_list_meas': qd_list_meas, 'pd_list_states': pd_list_states,\n",
    "    'pd_list_gates': pd_list_gates, 'pd_list_meas': pd_list_meas,\n",
    "    'neg_list_states': neg_list_states, 'neg_list_gates': neg_list_gates,\n",
    "    'neg_list_meas': neg_list_meas, 'sign_list_states': sign_list_states,\n",
    "    'sign_list_gates': sign_list_gates, 'sign_list_meas': sign_list_meas\n",
    "    }\n",
    "    return output"
   ]
  },
  {
   "cell_type": "code",
   "execution_count": 17,
   "metadata": {},
   "outputs": [],
   "source": [
    "def prepare_sampler(circuit, par_list, ps):\n",
    "    meas_list = np.stack(circuit[\"meas_list\"]).astype(np.float32)\n",
    "    index_list = np.array(circuit[\"index_list\"]).astype(np.int8)\n",
    "\n",
    "    output = get_qd_output(circuit, par_list, ps)\n",
    "\n",
    "    qd_list_states = np.stack([dist.flatten().astype(np.float32)\n",
    "                               for dist in output[\"qd_list_states\"]])\n",
    "    qd_list_gates = np.stack([dist.flatten().astype(np.float32)\n",
    "                              for dist in output[\"qd_list_gates\"]])\n",
    "    qd_list_meas = np.stack([dist.flatten().astype(np.float32)\n",
    "                             for dist in output[\"qd_list_meas\"]])\n",
    "\n",
    "    neg_list_states = np.array(output[\"neg_list_states\"]).astype(np.float32)\n",
    "    neg_list_gates = np.stack([dist.flatten().astype(np.float32)\n",
    "                               for dist in output[\"neg_list_gates\"]])\n",
    "    neg_list_meas = np.array(output[\"neg_list_meas\"]).astype(np.float32)\n",
    "\n",
    "    pd_list_states = np.stack([dist.flatten().astype(np.float32)\n",
    "                               for dist in output[\"pd_list_states\"]])\n",
    "    pd_list_gates = np.stack([dist.flatten().astype(np.float32)\n",
    "                              for dist in output[\"pd_list_gates\"]])\n",
    "    pd_list_meas = np.stack([dist.flatten().astype(np.float32)\n",
    "                             for dist in output[\"pd_list_meas\"]])\n",
    "\n",
    "    sign_list_states = np.stack([dist.flatten().astype(np.float32)\n",
    "                                 for dist in output[\"sign_list_states\"]])\n",
    "    sign_list_gates = np.stack([dist.flatten().astype(np.float32)\n",
    "                                for dist in output[\"sign_list_gates\"]])\n",
    "    sign_list_meas = np.stack([dist.flatten().astype(np.float32)\n",
    "                               for dist in output[\"sign_list_meas\"]])\n",
    "\n",
    "    return(meas_list, index_list, qd_list_states, qd_list_gates, qd_list_meas,\n",
    "           pd_list_states, pd_list_gates, pd_list_meas, sign_list_states,\n",
    "           sign_list_gates, sign_list_meas, neg_list_states, neg_list_gates,\n",
    "           neg_list_meas)"
   ]
  },
  {
   "cell_type": "code",
   "execution_count": 29,
   "metadata": {},
   "outputs": [],
   "source": [
    "#@jit(nopython=True)\n",
    "def choice(prob_dist):\n",
    "    return(np.arange(len(prob_dist))[np.searchsorted(\n",
    "             np.cumsum(prob_dist), np.random.random(), side=\"right\")])\n",
    "\n",
    "def sample_fast(meas_list, index_list, qd_list_states, qd_list_gates, \n",
    "                qd_list_meas, pd_list_states, pd_list_gates, pd_list_meas, \n",
    "                sign_list_states, sign_list_gates, sign_list_meas, \n",
    "                neg_list_states, neg_list_gates, neg_list_meas):\n",
    "    N = meas_list.shape[0]\n",
    "    current_ps_point = np.zeros(N, dtype=np.int32)\n",
    "    p_estimate = 1.\n",
    "\n",
    "    # Input states\n",
    "    for s in range(N):\n",
    "        ps_point = choice(pd_list_states[s])\n",
    "        current_ps_point[s] = ps_point\n",
    "        p_estimate *= neg_list_states[s]*sign_list_states[s][ps_point]\n",
    "\n",
    "    # Gates\n",
    "    for g in range(index_list.shape[0]):\n",
    "        idx = index_list[g]\n",
    "\n",
    "        arr_dim = np.log2(len(pd_list_gates[g]))/2\n",
    "        pq_in = 0\n",
    "        for i in range(len(idx)):\n",
    "            pq_in += current_ps_point[idx[i]]//2 * 2**(2*(arr_dim-i)-1)\n",
    "            pq_in += current_ps_point[idx[i]]%2 * 2**(2*(arr_dim-i)-2)\n",
    "        pq_in = int(pq_in)\n",
    "\n",
    "        prob = pd_list_gates[g,pq_in:pq_in+int(2**arr_dim)]\n",
    "        sign = sign_list_gates[g,pq_in:pq_in+int(2**arr_dim)]\n",
    "        neg = neg_list_gates[g,int(pq_in//(2**arr_dim))]\n",
    "\n",
    "        ps_point = choice(prob)\n",
    "        prob_dim = np.log2(len(prob))/2\n",
    "        for i in range(len(idx)):\n",
    "            current_ps_point[idx[i]] = int(ps_point/4**(prob_dim-1-i))%4\n",
    "        p_estimate *= neg*sign[ps_point]\n",
    "\n",
    "\n",
    "    # Measurement\n",
    "    exp_qaoa = p_estimate\n",
    "    temp = 0\n",
    "    for m in range(N):\n",
    "        p_estimate *= qd_list_meas[m,current_ps_point[m]]\n",
    "\n",
    "        m_next = (m+1)%N\n",
    "        temp += 0.5 * qd_list_meas[m_next,current_ps_point[m_next]]*\\\n",
    "                      qd_list_meas[m,current_ps_point[m]]\n",
    "    exp_qaoa *= temp\n",
    "    \n",
    "    return exp_qaoa # p_estimate # "
   ]
  },
  {
   "cell_type": "code",
   "execution_count": 19,
   "metadata": {},
   "outputs": [],
   "source": [
    "def sample(sample_size, circuit, par_list, ps):\n",
    "    \n",
    "    meas_list, index_list, qd_list_states, qd_list_gates, qd_list_meas,\\\n",
    "    pd_list_states, pd_list_gates, pd_list_meas, sign_list_states,\\\n",
    "    sign_list_gates, sign_list_meas, neg_list_states, neg_list_gates,\\\n",
    "    neg_list_meas = prepare_sampler(circuit, par_list, ps)\n",
    "    \n",
    "    p_est = np.zeros(sample_size)\n",
    "    for i in range(sample_size):\n",
    "        if i%(sample_size//10)==0: print(i/sample_size*100, \"%\")\n",
    "        p_est[i] = sample_fast(meas_list, index_list, qd_list_states, \n",
    "                     qd_list_gates,  qd_list_meas, pd_list_states, \n",
    "                     pd_list_gates, pd_list_meas,  sign_list_states, \n",
    "                     sign_list_gates, sign_list_meas,  neg_list_states, \n",
    "                     neg_list_gates, neg_list_meas)\n",
    "    return 1./sample_size * sum(p_est)\n",
    "\n",
    "def sample_parallel(sample_size, circuit, par_list, ps):\n",
    "    \n",
    "    meas_list, index_list, qd_list_states, qd_list_gates, qd_list_meas,\\\n",
    "    pd_list_states, pd_list_gates, pd_list_meas, sign_list_states,\\\n",
    "    sign_list_gates, sign_list_meas, neg_list_states, neg_list_gates,\\\n",
    "    neg_list_meas = prepare_sampler(circuit, par_list, ps)\n",
    "    \n",
    "    def sample_func(sample_size):\n",
    "        tally = 0.\n",
    "        for i in range(sample_size):\n",
    "            tally += sample_fast(meas_list, index_list, qd_list_states, qd_list_gates, \n",
    "                qd_list_meas, pd_list_states, pd_list_gates, pd_list_meas, \n",
    "                sign_list_states, sign_list_gates, sign_list_meas, \n",
    "                neg_list_states, neg_list_gates, neg_list_meas)\n",
    "        return tally\n",
    "    \n",
    "    n_core = multiprocessing.cpu_count()\n",
    "    p_est = Parallel(n_jobs=n_core)(delayed(sample_func)(sample_size//n_core) for i in range(n_core))\n",
    "    return 1./sample_size * sum(p_est)"
   ]
  },
  {
   "cell_type": "code",
   "execution_count": 20,
   "metadata": {},
   "outputs": [],
   "source": [
    "ps_Wigner = PhaseSpace(F, G, x0, DIM)\n",
    "\n",
    "plus = 0.5*np.array([[1.,1],[1.,1]])\n",
    "Z    = np.array([[1,0],[0,-1]])\n",
    "ZZ   = np.kron(Z,Z)\n",
    "X    = np.array([[0,1],[1,0]])\n",
    "\n",
    "def U_prob(gamma):\n",
    "    return expm(-1.j*2*gamma*ZZ)\n",
    "def U_mix(beta):\n",
    "    return expm(-1.j*beta*X)\n",
    "\n",
    "class Graph():\n",
    "    def __init__(self, N, edges):\n",
    "        self.N = N\n",
    "        self.nodes = np.arange(N)\n",
    "        self.edges = [list(edge) for edge in edges]\n",
    "\n",
    "def qaoa_maxcut(G, beta_list, gamma_list):\n",
    "    state_list = G.N*[plus]\n",
    "\n",
    "    gate_list = []\n",
    "    index_list = []\n",
    "    for i, beta in enumerate(beta_list):\n",
    "        gamma = gamma_list[i]\n",
    "        UP = U_prob(gamma)\n",
    "        for edge in G.edges:\n",
    "            gate_list.append(UP)\n",
    "            index_list.append(edge)\n",
    "        UM = U_mix(beta)\n",
    "        for node in range(G.N):\n",
    "            gate_list.append(UM)\n",
    "            index_list.append([node])\n",
    "\n",
    "    meas_list = G.N*[Z]\n",
    "\n",
    "    circuit = {'state_list': state_list, 'gate_list': gate_list,\n",
    "               'index_list': index_list, 'meas_list': meas_list}\n",
    "    return circuit\n",
    "\n",
    "x0 = ps_Wigner.x0\n",
    "W = ps_Wigner.W\n",
    "\n",
    "edges = [(0, 1), (1, 2), (2, 3), (3, 0)]\n",
    "G = Graph(4, edges)"
   ]
  },
  {
   "cell_type": "code",
   "execution_count": 21,
   "metadata": {},
   "outputs": [],
   "source": [
    "beta, gamma = 0.1, 0.2\n",
    "circuit = qaoa_maxcut(G, [beta], [gamma])\n",
    "circuit = compress_circuit(circuit, n=2)\n",
    "x_circ  = init_x_list(circuit, x0)\n",
    "x_out, neg_list = sequential_para_opt(W, circuit, x_circ, l=1, niter=1)"
   ]
  },
  {
   "cell_type": "code",
   "execution_count": 28,
   "metadata": {},
   "outputs": [
    {
     "name": "stdout",
     "output_type": "stream",
     "text": [
      "STEP 0\n",
      "0.0 %\n",
      "10.0 %\n",
      "20.0 %\n",
      "30.0 %\n"
     ]
    },
    {
     "ename": "KeyboardInterrupt",
     "evalue": "",
     "output_type": "error",
     "traceback": [
      "\u001b[1;31m---------------------------------------------------------------------------\u001b[0m",
      "\u001b[1;31mKeyboardInterrupt\u001b[0m                         Traceback (most recent call last)",
      "\u001b[1;32m<ipython-input-28-6d4efb37434d>\u001b[0m in \u001b[0;36m<module>\u001b[1;34m\u001b[0m\n\u001b[0;32m      2\u001b[0m \u001b[0mprint\u001b[0m\u001b[1;33m(\u001b[0m\u001b[1;34m\"STEP 0\"\u001b[0m\u001b[1;33m)\u001b[0m\u001b[1;33m\u001b[0m\u001b[1;33m\u001b[0m\u001b[0m\n\u001b[0;32m      3\u001b[0m \u001b[0mt0\u001b[0m \u001b[1;33m=\u001b[0m \u001b[0mtime\u001b[0m\u001b[1;33m.\u001b[0m\u001b[0mtime\u001b[0m\u001b[1;33m(\u001b[0m\u001b[1;33m)\u001b[0m\u001b[1;33m\u001b[0m\u001b[1;33m\u001b[0m\u001b[0m\n\u001b[1;32m----> 4\u001b[1;33m \u001b[0mout1\u001b[0m \u001b[1;33m=\u001b[0m \u001b[0msample\u001b[0m\u001b[1;33m(\u001b[0m\u001b[0msample_size\u001b[0m\u001b[1;33m,\u001b[0m \u001b[0mcircuit\u001b[0m\u001b[1;33m=\u001b[0m\u001b[0mcircuit\u001b[0m\u001b[1;33m,\u001b[0m \u001b[0mpar_list\u001b[0m\u001b[1;33m=\u001b[0m\u001b[0mx_out\u001b[0m\u001b[1;33m,\u001b[0m \u001b[0mps\u001b[0m\u001b[1;33m=\u001b[0m\u001b[0mps_Wigner\u001b[0m\u001b[1;33m)\u001b[0m\u001b[1;33m\u001b[0m\u001b[1;33m\u001b[0m\u001b[0m\n\u001b[0m\u001b[0;32m      5\u001b[0m \u001b[0mt1\u001b[0m \u001b[1;33m=\u001b[0m \u001b[0mtime\u001b[0m\u001b[1;33m.\u001b[0m\u001b[0mtime\u001b[0m\u001b[1;33m(\u001b[0m\u001b[1;33m)\u001b[0m \u001b[1;33m-\u001b[0m \u001b[0mt0\u001b[0m\u001b[1;33m\u001b[0m\u001b[1;33m\u001b[0m\u001b[0m\n\u001b[0;32m      6\u001b[0m \u001b[1;31m# print(\"STEP 1\")\u001b[0m\u001b[1;33m\u001b[0m\u001b[1;33m\u001b[0m\u001b[1;33m\u001b[0m\u001b[0m\n",
      "\u001b[1;32m<ipython-input-19-aa3a29d4222d>\u001b[0m in \u001b[0;36msample\u001b[1;34m(sample_size, circuit, par_list, ps)\u001b[0m\n\u001b[0;32m     13\u001b[0m                      \u001b[0mpd_list_gates\u001b[0m\u001b[1;33m,\u001b[0m \u001b[0mpd_list_meas\u001b[0m\u001b[1;33m,\u001b[0m  \u001b[0msign_list_states\u001b[0m\u001b[1;33m,\u001b[0m\u001b[1;33m\u001b[0m\u001b[1;33m\u001b[0m\u001b[0m\n\u001b[0;32m     14\u001b[0m                      \u001b[0msign_list_gates\u001b[0m\u001b[1;33m,\u001b[0m \u001b[0msign_list_meas\u001b[0m\u001b[1;33m,\u001b[0m  \u001b[0mneg_list_states\u001b[0m\u001b[1;33m,\u001b[0m\u001b[1;33m\u001b[0m\u001b[1;33m\u001b[0m\u001b[0m\n\u001b[1;32m---> 15\u001b[1;33m                      neg_list_gates, neg_list_meas)\n\u001b[0m\u001b[0;32m     16\u001b[0m     \u001b[1;32mreturn\u001b[0m \u001b[1;36m1.\u001b[0m\u001b[1;33m/\u001b[0m\u001b[0msample_size\u001b[0m \u001b[1;33m*\u001b[0m \u001b[0msum\u001b[0m\u001b[1;33m(\u001b[0m\u001b[0mp_est\u001b[0m\u001b[1;33m)\u001b[0m\u001b[1;33m\u001b[0m\u001b[1;33m\u001b[0m\u001b[0m\n\u001b[0;32m     17\u001b[0m \u001b[1;33m\u001b[0m\u001b[0m\n",
      "\u001b[1;32m<ipython-input-27-9914c284727d>\u001b[0m in \u001b[0;36msample_fast\u001b[1;34m(meas_list, index_list, qd_list_states, qd_list_gates, qd_list_meas, pd_list_states, pd_list_gates, pd_list_meas, sign_list_states, sign_list_gates, sign_list_meas, neg_list_states, neg_list_gates, neg_list_meas)\u001b[0m\n\u001b[0;32m     26\u001b[0m         \u001b[1;32mfor\u001b[0m \u001b[0mi\u001b[0m \u001b[1;32min\u001b[0m \u001b[0mrange\u001b[0m\u001b[1;33m(\u001b[0m\u001b[0mlen\u001b[0m\u001b[1;33m(\u001b[0m\u001b[0midx\u001b[0m\u001b[1;33m)\u001b[0m\u001b[1;33m)\u001b[0m\u001b[1;33m:\u001b[0m\u001b[1;33m\u001b[0m\u001b[1;33m\u001b[0m\u001b[0m\n\u001b[0;32m     27\u001b[0m             \u001b[0mpq_in\u001b[0m \u001b[1;33m+=\u001b[0m \u001b[0mcurrent_ps_point\u001b[0m\u001b[1;33m[\u001b[0m\u001b[0midx\u001b[0m\u001b[1;33m[\u001b[0m\u001b[0mi\u001b[0m\u001b[1;33m]\u001b[0m\u001b[1;33m]\u001b[0m\u001b[1;33m//\u001b[0m\u001b[1;36m2\u001b[0m \u001b[1;33m*\u001b[0m \u001b[1;36m2\u001b[0m\u001b[1;33m**\u001b[0m\u001b[1;33m(\u001b[0m\u001b[1;36m2\u001b[0m\u001b[1;33m*\u001b[0m\u001b[1;33m(\u001b[0m\u001b[0marr_dim\u001b[0m\u001b[1;33m-\u001b[0m\u001b[0mi\u001b[0m\u001b[1;33m)\u001b[0m\u001b[1;33m-\u001b[0m\u001b[1;36m1\u001b[0m\u001b[1;33m)\u001b[0m\u001b[1;33m\u001b[0m\u001b[1;33m\u001b[0m\u001b[0m\n\u001b[1;32m---> 28\u001b[1;33m             \u001b[0mpq_in\u001b[0m \u001b[1;33m+=\u001b[0m \u001b[0mcurrent_ps_point\u001b[0m\u001b[1;33m[\u001b[0m\u001b[0midx\u001b[0m\u001b[1;33m[\u001b[0m\u001b[0mi\u001b[0m\u001b[1;33m]\u001b[0m\u001b[1;33m]\u001b[0m\u001b[1;33m%\u001b[0m\u001b[1;36m2\u001b[0m \u001b[1;33m*\u001b[0m \u001b[1;36m2\u001b[0m\u001b[1;33m**\u001b[0m\u001b[1;33m(\u001b[0m\u001b[1;36m2\u001b[0m\u001b[1;33m*\u001b[0m\u001b[1;33m(\u001b[0m\u001b[0marr_dim\u001b[0m\u001b[1;33m-\u001b[0m\u001b[0mi\u001b[0m\u001b[1;33m)\u001b[0m\u001b[1;33m-\u001b[0m\u001b[1;36m2\u001b[0m\u001b[1;33m)\u001b[0m\u001b[1;33m\u001b[0m\u001b[1;33m\u001b[0m\u001b[0m\n\u001b[0m\u001b[0;32m     29\u001b[0m         \u001b[0mpq_in\u001b[0m \u001b[1;33m=\u001b[0m \u001b[0mint\u001b[0m\u001b[1;33m(\u001b[0m\u001b[0mpq_in\u001b[0m\u001b[1;33m)\u001b[0m\u001b[1;33m\u001b[0m\u001b[1;33m\u001b[0m\u001b[0m\n\u001b[0;32m     30\u001b[0m \u001b[1;33m\u001b[0m\u001b[0m\n",
      "\u001b[1;31mKeyboardInterrupt\u001b[0m: "
     ]
    }
   ],
   "source": [
    "sample_size = int(1e6)\n",
    "print(\"STEP 0\")\n",
    "t0 = time.time()\n",
    "out1 = sample(sample_size, circuit=circuit, par_list=x_out, ps=ps_Wigner)\n",
    "t1 = time.time() - t0\n",
    "# print(\"STEP 1\")\n",
    "# t0 = time.time()\n",
    "# out2 = sample_parallel(sample_size, circuit=circuit, par_list=x_out, ps=ps_Wigner)\n",
    "# t2 = time.time() - t0\n",
    "# print(\"STEP 2\")"
   ]
  },
  {
   "cell_type": "code",
   "execution_count": 26,
   "metadata": {},
   "outputs": [
    {
     "data": {
      "text/plain": [
       "29.561963081359863"
      ]
     },
     "execution_count": 26,
     "metadata": {},
     "output_type": "execute_result"
    }
   ],
   "source": [
    "t1"
   ]
  },
  {
   "cell_type": "code",
   "execution_count": 43,
   "metadata": {},
   "outputs": [
    {
     "data": {
      "text/plain": [
       "13.714343070983887"
      ]
     },
     "execution_count": 43,
     "metadata": {},
     "output_type": "execute_result"
    }
   ],
   "source": [
    "t2"
   ]
  },
  {
   "cell_type": "code",
   "execution_count": 44,
   "metadata": {},
   "outputs": [
    {
     "data": {
      "text/plain": [
       "0.12767408328967741"
      ]
     },
     "execution_count": 44,
     "metadata": {},
     "output_type": "execute_result"
    }
   ],
   "source": [
    "out1"
   ]
  },
  {
   "cell_type": "code",
   "execution_count": 45,
   "metadata": {},
   "outputs": [
    {
     "data": {
      "text/plain": [
       "0.12603131562570194"
      ]
     },
     "execution_count": 45,
     "metadata": {},
     "output_type": "execute_result"
    }
   ],
   "source": [
    "out2"
   ]
  },
  {
   "cell_type": "code",
   "execution_count": null,
   "metadata": {},
   "outputs": [],
   "source": []
  }
 ],
 "metadata": {
  "kernelspec": {
   "display_name": "Python 3",
   "language": "python",
   "name": "python3"
  },
  "language_info": {
   "codemirror_mode": {
    "name": "ipython",
    "version": 3
   },
   "file_extension": ".py",
   "mimetype": "text/x-python",
   "name": "python",
   "nbconvert_exporter": "python",
   "pygments_lexer": "ipython3",
   "version": "3.7.6"
  }
 },
 "nbformat": 4,
 "nbformat_minor": 4
}
